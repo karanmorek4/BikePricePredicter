{
 "cells": [
  {
   "cell_type": "code",
   "execution_count": 53,
   "metadata": {},
   "outputs": [],
   "source": [
    "import numpy as np\n",
    "import pandas as pd\n",
    "import matplotlib.pyplot as plt\n",
    "import seaborn as sns"
   ]
  },
  {
   "cell_type": "code",
   "execution_count": 54,
   "metadata": {},
   "outputs": [],
   "source": [
    "data = pd.read_csv('Used_Bikes.csv')"
   ]
  },
  {
   "cell_type": "code",
   "execution_count": 55,
   "metadata": {},
   "outputs": [
    {
     "data": {
      "text/html": [
       "<div>\n",
       "<style scoped>\n",
       "    .dataframe tbody tr th:only-of-type {\n",
       "        vertical-align: middle;\n",
       "    }\n",
       "\n",
       "    .dataframe tbody tr th {\n",
       "        vertical-align: top;\n",
       "    }\n",
       "\n",
       "    .dataframe thead th {\n",
       "        text-align: right;\n",
       "    }\n",
       "</style>\n",
       "<table border=\"1\" class=\"dataframe\">\n",
       "  <thead>\n",
       "    <tr style=\"text-align: right;\">\n",
       "      <th></th>\n",
       "      <th>bike_name</th>\n",
       "      <th>price</th>\n",
       "      <th>city</th>\n",
       "      <th>kms_driven</th>\n",
       "      <th>owner</th>\n",
       "      <th>age</th>\n",
       "      <th>power</th>\n",
       "      <th>brand</th>\n",
       "    </tr>\n",
       "  </thead>\n",
       "  <tbody>\n",
       "    <tr>\n",
       "      <th>0</th>\n",
       "      <td>TVS Star City Plus Dual Tone 110cc</td>\n",
       "      <td>35000</td>\n",
       "      <td>Ahmedabad</td>\n",
       "      <td>17654</td>\n",
       "      <td>First Owner</td>\n",
       "      <td>3</td>\n",
       "      <td>110</td>\n",
       "      <td>TVS</td>\n",
       "    </tr>\n",
       "    <tr>\n",
       "      <th>1</th>\n",
       "      <td>Royal Enfield Classic 350cc</td>\n",
       "      <td>119900</td>\n",
       "      <td>Delhi</td>\n",
       "      <td>11000</td>\n",
       "      <td>First Owner</td>\n",
       "      <td>4</td>\n",
       "      <td>350</td>\n",
       "      <td>Royal Enfield</td>\n",
       "    </tr>\n",
       "    <tr>\n",
       "      <th>2</th>\n",
       "      <td>Triumph Daytona 675R</td>\n",
       "      <td>600000</td>\n",
       "      <td>Delhi</td>\n",
       "      <td>110</td>\n",
       "      <td>First Owner</td>\n",
       "      <td>8</td>\n",
       "      <td>675</td>\n",
       "      <td>Triumph</td>\n",
       "    </tr>\n",
       "    <tr>\n",
       "      <th>3</th>\n",
       "      <td>TVS Apache RTR 180cc</td>\n",
       "      <td>65000</td>\n",
       "      <td>Bangalore</td>\n",
       "      <td>16329</td>\n",
       "      <td>First Owner</td>\n",
       "      <td>4</td>\n",
       "      <td>180</td>\n",
       "      <td>TVS</td>\n",
       "    </tr>\n",
       "    <tr>\n",
       "      <th>4</th>\n",
       "      <td>Yamaha FZ S V 2.0 150cc-Ltd. Edition</td>\n",
       "      <td>80000</td>\n",
       "      <td>Bangalore</td>\n",
       "      <td>10000</td>\n",
       "      <td>First Owner</td>\n",
       "      <td>3</td>\n",
       "      <td>150</td>\n",
       "      <td>Yamaha</td>\n",
       "    </tr>\n",
       "  </tbody>\n",
       "</table>\n",
       "</div>"
      ],
      "text/plain": [
       "                              bike_name   price       city  kms_driven  \\\n",
       "0    TVS Star City Plus Dual Tone 110cc   35000  Ahmedabad       17654   \n",
       "1           Royal Enfield Classic 350cc  119900      Delhi       11000   \n",
       "2                  Triumph Daytona 675R  600000      Delhi         110   \n",
       "3                  TVS Apache RTR 180cc   65000  Bangalore       16329   \n",
       "4  Yamaha FZ S V 2.0 150cc-Ltd. Edition   80000  Bangalore       10000   \n",
       "\n",
       "         owner  age  power          brand  \n",
       "0  First Owner    3    110            TVS  \n",
       "1  First Owner    4    350  Royal Enfield  \n",
       "2  First Owner    8    675        Triumph  \n",
       "3  First Owner    4    180            TVS  \n",
       "4  First Owner    3    150         Yamaha  "
      ]
     },
     "execution_count": 55,
     "metadata": {},
     "output_type": "execute_result"
    }
   ],
   "source": [
    "data.head()"
   ]
  },
  {
   "cell_type": "code",
   "execution_count": 56,
   "metadata": {},
   "outputs": [
    {
     "data": {
      "text/plain": [
       "bike_name     0\n",
       "price         0\n",
       "city          0\n",
       "kms_driven    0\n",
       "owner         0\n",
       "age           0\n",
       "power         0\n",
       "brand         0\n",
       "dtype: int64"
      ]
     },
     "execution_count": 56,
     "metadata": {},
     "output_type": "execute_result"
    }
   ],
   "source": [
    "data.isnull().sum()"
   ]
  },
  {
   "cell_type": "code",
   "execution_count": 57,
   "metadata": {},
   "outputs": [
    {
     "name": "stdout",
     "output_type": "stream",
     "text": [
      "<class 'pandas.core.frame.DataFrame'>\n",
      "RangeIndex: 32648 entries, 0 to 32647\n",
      "Data columns (total 8 columns):\n",
      " #   Column      Non-Null Count  Dtype \n",
      "---  ------      --------------  ----- \n",
      " 0   bike_name   32648 non-null  object\n",
      " 1   price       32648 non-null  int64 \n",
      " 2   city        32648 non-null  object\n",
      " 3   kms_driven  32648 non-null  int64 \n",
      " 4   owner       32648 non-null  object\n",
      " 5   age         32648 non-null  int64 \n",
      " 6   power       32648 non-null  int64 \n",
      " 7   brand       32648 non-null  object\n",
      "dtypes: int64(4), object(4)\n",
      "memory usage: 2.0+ MB\n"
     ]
    }
   ],
   "source": [
    "data.info()"
   ]
  },
  {
   "cell_type": "code",
   "execution_count": 58,
   "metadata": {},
   "outputs": [
    {
     "name": "stdout",
     "output_type": "stream",
     "text": [
      "['Ahmedabad' 'Delhi' 'Bangalore' 'Mumbai' 'Kalyan' 'Faridabad' 'Mettur'\n",
      " 'Hyderabad' 'Kaithal' 'Gurgaon' 'Pune' 'Noida' 'Nashik' 'Kochi'\n",
      " 'Allahabad' 'Samastipur' 'Nadiad' 'Lucknow' 'Jaipur' 'Karnal' 'Gorakhpur'\n",
      " 'Vidisha' 'Hosur' 'Bagalkot' 'Baripara' 'Agra' 'Dharwad' 'Vadodara'\n",
      " 'Jalandhar' 'Surat' 'Chennai' 'Navi Mumbai' 'Gandhidham' 'Visakhapatnam'\n",
      " 'Thrissur' 'Kolkata' 'Ernakulam' 'Barasat' 'Ghaziabad' 'Bhubaneshwar'\n",
      " 'Amritsar' 'Bhopal' 'Hamirpur(hp)' 'Kottayam' 'Arrah' 'Patiala'\n",
      " 'Ranga Reddy' 'Mandi' 'Ludhiana' 'Mandya' 'Siliguri' 'Aurangabad'\n",
      " 'Kanpur' 'Bhilwara' 'Meerut' 'Rewari' 'Ahmednagar' 'Wardha' 'Chandigarh'\n",
      " 'Ranchi' 'Panvel' 'Thane' 'Jabalpur' 'Kota' 'Rohtak' 'Rajkot' 'Varanasi'\n",
      " 'Pargana' 'Banka' 'Nagpur' 'Banki' 'Pali' 'Chhatarpur' 'Katihar' 'Mohali'\n",
      " 'Rudrapur' 'Coimbatore' 'Jajpur' 'Mysore' 'Adoni' 'Bikaner' 'Malout'\n",
      " 'Jammu' 'Rajnandgaon' 'Unnao' 'Godhara' 'Kolhapur' 'Satara' 'Siwan'\n",
      " 'Dadra & Nagar Haveli' 'Bhiwani' 'Koppal' 'Nizamabad' 'Madurai' 'Ujjain'\n",
      " 'Palakkad' 'Tiruvallur' 'Panchkula' 'Nanjangud' 'Jhansi' 'Sonipat'\n",
      " 'Puttur' 'Hoshiarpur' 'Gohana' 'Gautam Buddha Nagar' 'Durgapur' 'Palwal'\n",
      " 'Chatrapur' 'Howrah' 'Jind' 'Hubli' 'Panipat' 'Bharatpur' 'Vellore'\n",
      " 'Ambala' 'Guwahati' 'Gangtok' 'Rajahmundry' 'Tiruchirappalli' 'Belgaum'\n",
      " 'Balaghat' 'Jatani' 'Asansol' 'Bilaspur' 'Thanjavur' 'Raigarh(mh)'\n",
      " 'Mandi Dabwali' 'Basti' 'Bolpur' 'Aligarh' 'Balrampur' 'Ratnagiri'\n",
      " 'Muktsar' 'Baran' 'Haldwani' 'Thiruvananthapuram' 'Indore' 'Buxar'\n",
      " 'Chaksu' 'Haridwar' 'Bharuch' 'Muvattupuzha' 'Patna' 'Simdega'\n",
      " 'Singhbhum' 'Bardhaman' 'Pathankot' 'Kharar' 'Silchar' 'Jhalawar'\n",
      " 'Roorkee' 'Saharanpur' 'Solapur' 'Gwalior' 'Alibag' 'Katni' 'Khedbrahma'\n",
      " 'Valsad' 'Satna' 'Hooghly' 'Gurdaspur' 'Dadri' 'Amravati' 'Durg'\n",
      " 'Mehsana' 'Lansdowne' 'Cuttack' 'Jaisalmer' 'Hanumangarh' 'Dungarpur'\n",
      " 'Sri Ganganagar' 'Margao' 'Chinsurah' 'Bhatinda' 'Sibsagar' 'Khalilabad'\n",
      " 'Dehradun' 'Anand' 'Sambalpur' 'Ankleshwar' 'Purnia' 'Tiruverkadu'\n",
      " 'Bahadurgarh' 'Udaipur' 'Jodhpur' 'Sheikhpura' 'Pondicherry' 'Sirsa'\n",
      " 'Godavari' 'Ajmer' 'Moradabad' 'Raipur' 'Navsari' 'Herbertpur'\n",
      " 'Jamshedpur' 'Ramanagar' 'Berhampur' 'Vijayawada' 'Murad Nagar'\n",
      " 'Chandrapur' 'Jamtara' 'Uppidamangalam' 'Nalagarh' 'Una' 'Chakan'\n",
      " 'Idukki' 'Shivpuri' 'Arkalgud' 'Bidar' 'Rupnagar' 'Deoghar' 'Kanchipuram'\n",
      " 'Vapi' 'Medak' 'Kasargode' 'Dhanbad' 'Dakshina Kannada' 'Ganaur'\n",
      " 'Jamalpur' 'Amraoti' 'Mangalore' 'Deolali' 'Gandhinagar' 'Chitradurga'\n",
      " 'Chinchwad' 'Jhajjar' 'Jagdalpur' 'Ranoli' 'Raiwala' 'Guntur' 'Badarpur'\n",
      " 'Adalaj' 'Alipore' 'Bhawani Mandi' 'Mughalsarai' 'Kollam' 'Farukhabad'\n",
      " 'Thiruvallur' 'Udaipurwati' 'Rasra' 'Latur' 'Krishna' 'Gangaikondan'\n",
      " 'Warangal' 'Uluberia' 'Poonamallee' 'Nagaon' 'Hissar' 'Kanyakumari'\n",
      " 'Morbi' 'Bankura' 'Virar' 'Tikamgarh' 'Sultanpur' 'Tirunelveli'\n",
      " 'Bihar Shariff' 'Goa-panaji' 'Ganganagar' 'Kolar' 'Bahadurpur' 'Batala'\n",
      " 'Budhlada' 'Muzaffarnagar' 'Adyar' 'Calicut' 'Raigarh' 'Sonepat'\n",
      " 'Chikkaballapur' 'Kasba' 'Bulandshahr' 'Burdwan' 'Anjar' 'Marandahalli'\n",
      " 'Badaun' 'Namakkal' 'Puri' 'Alwar' 'Surendranagar' 'Khandela' 'Kullu'\n",
      " 'Mohammadabad' 'Sangareddy' 'Ghazipur' 'Shimla' 'Azamgarh' 'Chenani'\n",
      " 'Kanpur Nagar' 'Trivandrum' 'Secunderabad' 'Kurukshetra' 'Dhariawad'\n",
      " 'Bargarh' 'Gadarpur' 'Chikamaglur' 'Karim Nagar' 'Kotdwar' 'Jalaun'\n",
      " 'Parola' 'Bareilly' 'Salem' 'Indi' 'Muzaffarpur' 'Nayagarh' 'Jalgaon'\n",
      " 'Ambikapur' 'Udupi' 'Junagadh' 'Dibrugarh' 'Faridkot' 'Naraingarh'\n",
      " 'Karwar' 'Sant Kabir Nagar' 'Viramgam' 'Manali' 'Gadwal' 'Honavar'\n",
      " 'Mathura' 'Khandwa' 'Solan' 'Sitapur' 'Betul' 'Anantapur' 'Sholapur'\n",
      " 'Pinjore' 'Qadian' 'Sangrur' 'Jorhat' 'Palanpur' 'Narnaul' 'Palamu'\n",
      " 'Falakata' 'Ferozepur' 'Porbandar' 'Dwarka' 'Rangpo' 'Cannanore (kannur)'\n",
      " 'Churu' 'Baghpat' 'Jhumri Tilaiya' 'Naihati' 'Virudhunagar' 'Dharmavaram'\n",
      " 'Darbhanga' 'Nawanshahr' 'Sangli' 'Suri' 'Yamuna Nagar' 'Vasai' 'Aluva'\n",
      " 'Sirsi' 'Bijapur' 'Krishnagar' 'Bhiwadi' 'Bellary' 'Erode' 'Aquem'\n",
      " 'Nellore' 'Udhampur' 'Dhamtari' 'Vandalur' 'Motihari' 'Dharwar' 'Shimoga'\n",
      " 'Jhunjhunu' 'Bijnor' 'Yemmiganur' 'Bokaro' 'Kurnool' 'Srinagar' 'Ranip'\n",
      " 'Davanagere' 'Rajouri' 'Begusarai' 'Goregaon' 'Bally' 'Kachchh' 'Nagaur'\n",
      " 'Anekal' 'Mansa' 'Nanded' 'Dharamasala' 'Chhindwara' 'Jamnagar'\n",
      " 'Zirakpur' 'Abohar' 'Barabanki' 'Nabha' 'Kadapa' 'Perumbavoor'\n",
      " 'Sundargarh' 'Nazira' 'Pratapgarh' 'Dharmapuri' 'Thangadh' 'Lonavala'\n",
      " 'Vizianagaram' 'Kathua' 'Deesa' 'Tiruppur' 'Gadchiroli' 'Gangaghat'\n",
      " 'Bhuj' 'Vastral' 'Phagwara' 'Kheda' 'Swaimadhopur' 'Kharagpur' 'Jobner'\n",
      " 'Gondia' 'Bundi' 'Hamirpur' 'Dongargaon' 'Mubarakpur' 'Tumkur' 'Sanand'\n",
      " 'Kartarpur' 'Bhavnagar' 'Farrukhabad' 'Kadi' 'Seppa' 'Challakere'\n",
      " 'Dhubri' 'Deoria' 'Akot' 'Alappuzha' 'Bhiwandi' 'Shillong' 'Osmanabad'\n",
      " 'Kendua' 'Uran' 'Jaunpur' 'Hisar' 'Bodhan' 'Bhubaneswar' 'Raiganj'\n",
      " 'Bhilai Nagar' 'Baloda' 'Anantnag' 'Berhampore' 'Silvasa' 'Hospet'\n",
      " 'Palai' 'Sidhi']\n"
     ]
    }
   ],
   "source": [
    "data['bike_name'] = data['bike_name'].str.split().str.slice(0,3).str.join(\" \")\n",
    "\n",
    "print(data.city.unique())\n"
   ]
  },
  {
   "cell_type": "code",
   "execution_count": 59,
   "metadata": {},
   "outputs": [
    {
     "data": {
      "text/html": [
       "<div>\n",
       "<style scoped>\n",
       "    .dataframe tbody tr th:only-of-type {\n",
       "        vertical-align: middle;\n",
       "    }\n",
       "\n",
       "    .dataframe tbody tr th {\n",
       "        vertical-align: top;\n",
       "    }\n",
       "\n",
       "    .dataframe thead th {\n",
       "        text-align: right;\n",
       "    }\n",
       "</style>\n",
       "<table border=\"1\" class=\"dataframe\">\n",
       "  <thead>\n",
       "    <tr style=\"text-align: right;\">\n",
       "      <th></th>\n",
       "      <th>bike_name</th>\n",
       "      <th>price</th>\n",
       "      <th>kms_driven</th>\n",
       "      <th>owner</th>\n",
       "      <th>age</th>\n",
       "      <th>power</th>\n",
       "      <th>city_code</th>\n",
       "      <th>brand_code</th>\n",
       "    </tr>\n",
       "  </thead>\n",
       "  <tbody>\n",
       "    <tr>\n",
       "      <th>0</th>\n",
       "      <td>TVS Star City</td>\n",
       "      <td>35000</td>\n",
       "      <td>17654</td>\n",
       "      <td>0</td>\n",
       "      <td>3</td>\n",
       "      <td>110</td>\n",
       "      <td>0</td>\n",
       "      <td>0</td>\n",
       "    </tr>\n",
       "    <tr>\n",
       "      <th>1</th>\n",
       "      <td>Royal Enfield Classic</td>\n",
       "      <td>119900</td>\n",
       "      <td>11000</td>\n",
       "      <td>0</td>\n",
       "      <td>4</td>\n",
       "      <td>350</td>\n",
       "      <td>1</td>\n",
       "      <td>1</td>\n",
       "    </tr>\n",
       "    <tr>\n",
       "      <th>2</th>\n",
       "      <td>Triumph Daytona 675R</td>\n",
       "      <td>600000</td>\n",
       "      <td>110</td>\n",
       "      <td>0</td>\n",
       "      <td>8</td>\n",
       "      <td>675</td>\n",
       "      <td>1</td>\n",
       "      <td>2</td>\n",
       "    </tr>\n",
       "    <tr>\n",
       "      <th>3</th>\n",
       "      <td>TVS Apache RTR</td>\n",
       "      <td>65000</td>\n",
       "      <td>16329</td>\n",
       "      <td>0</td>\n",
       "      <td>4</td>\n",
       "      <td>180</td>\n",
       "      <td>2</td>\n",
       "      <td>0</td>\n",
       "    </tr>\n",
       "    <tr>\n",
       "      <th>4</th>\n",
       "      <td>Yamaha FZ S</td>\n",
       "      <td>80000</td>\n",
       "      <td>10000</td>\n",
       "      <td>0</td>\n",
       "      <td>3</td>\n",
       "      <td>150</td>\n",
       "      <td>2</td>\n",
       "      <td>3</td>\n",
       "    </tr>\n",
       "  </tbody>\n",
       "</table>\n",
       "</div>"
      ],
      "text/plain": [
       "               bike_name   price  kms_driven  owner  age  power  city_code  \\\n",
       "0          TVS Star City   35000       17654      0    3    110          0   \n",
       "1  Royal Enfield Classic  119900       11000      0    4    350          1   \n",
       "2   Triumph Daytona 675R  600000         110      0    8    675          1   \n",
       "3         TVS Apache RTR   65000       16329      0    4    180          2   \n",
       "4            Yamaha FZ S   80000       10000      0    3    150          2   \n",
       "\n",
       "   brand_code  \n",
       "0           0  \n",
       "1           1  \n",
       "2           2  \n",
       "3           0  \n",
       "4           3  "
      ]
     },
     "execution_count": 59,
     "metadata": {},
     "output_type": "execute_result"
    }
   ],
   "source": [
    "data.replace({'owner':{'First Owner' : 0 , 'Second Owner':1,'Third Owner':2 , 'Fourth Owner Or More':3}},inplace=True)\n",
    "\n",
    "no_city=list(data.city.unique())\n",
    "no_brand=list(data.brand.unique())\n",
    "def cc(x):\n",
    "    return no_city.index(x)\n",
    "\n",
    "def bc(x):\n",
    "    return no_brand.index(x)\n",
    "\n",
    "data['city_code']=data.city.apply(cc)\n",
    "\n",
    "data['brand_code']=data.brand.apply(bc)\n",
    "\n",
    "\n",
    "data.drop(['city','brand'],inplace=True,axis=1)\n",
    "data.head()"
   ]
  },
  {
   "cell_type": "code",
   "execution_count": 60,
   "metadata": {},
   "outputs": [
    {
     "name": "stderr",
     "output_type": "stream",
     "text": [
      "c:\\Users\\Dell\\AppData\\Local\\Programs\\Python\\Python310\\lib\\site-packages\\seaborn\\distributions.py:2619: FutureWarning: `distplot` is a deprecated function and will be removed in a future version. Please adapt your code to use either `displot` (a figure-level function with similar flexibility) or `histplot` (an axes-level function for histograms).\n",
      "  warnings.warn(msg, FutureWarning)\n"
     ]
    },
    {
     "data": {
      "image/png": "[encoded data removed]",
      "text/plain": [
       "<Figure size 1080x720 with 1 Axes>"
      ]
     },
     "metadata": {},
     "output_type": "display_data"
    }
   ],
   "source": [
    "sns.set_style(\"whitegrid\")\n",
    "plt.figure(figsize=(15, 10))\n",
    "sns.distplot(data.price)\n",
    "plt.show()"
   ]
  },
  {
   "cell_type": "code",
   "execution_count": 61,
   "metadata": {},
   "outputs": [
    {
     "data": {
      "text/html": [
       "<div>\n",
       "<style scoped>\n",
       "    .dataframe tbody tr th:only-of-type {\n",
       "        vertical-align: middle;\n",
       "    }\n",
       "\n",
       "    .dataframe tbody tr th {\n",
       "        vertical-align: top;\n",
       "    }\n",
       "\n",
       "    .dataframe thead th {\n",
       "        text-align: right;\n",
       "    }\n",
       "</style>\n",
       "<table border=\"1\" class=\"dataframe\">\n",
       "  <thead>\n",
       "    <tr style=\"text-align: right;\">\n",
       "      <th></th>\n",
       "      <th>price</th>\n",
       "      <th>kms_driven</th>\n",
       "      <th>owner</th>\n",
       "      <th>age</th>\n",
       "      <th>power</th>\n",
       "      <th>city_code</th>\n",
       "      <th>brand_code</th>\n",
       "    </tr>\n",
       "  </thead>\n",
       "  <tbody>\n",
       "    <tr>\n",
       "      <th>price</th>\n",
       "      <td>1.000000</td>\n",
       "      <td>-0.313955</td>\n",
       "      <td>-0.040164</td>\n",
       "      <td>-0.399133</td>\n",
       "      <td>0.862376</td>\n",
       "      <td>0.131509</td>\n",
       "      <td>0.394474</td>\n",
       "    </tr>\n",
       "    <tr>\n",
       "      <th>kms_driven</th>\n",
       "      <td>-0.313955</td>\n",
       "      <td>1.000000</td>\n",
       "      <td>-0.013661</td>\n",
       "      <td>0.484684</td>\n",
       "      <td>-0.264016</td>\n",
       "      <td>-0.014558</td>\n",
       "      <td>-0.029519</td>\n",
       "    </tr>\n",
       "    <tr>\n",
       "      <th>owner</th>\n",
       "      <td>-0.040164</td>\n",
       "      <td>-0.013661</td>\n",
       "      <td>1.000000</td>\n",
       "      <td>0.292523</td>\n",
       "      <td>0.044031</td>\n",
       "      <td>0.176990</td>\n",
       "      <td>-0.071885</td>\n",
       "    </tr>\n",
       "    <tr>\n",
       "      <th>age</th>\n",
       "      <td>-0.399133</td>\n",
       "      <td>0.484684</td>\n",
       "      <td>0.292523</td>\n",
       "      <td>1.000000</td>\n",
       "      <td>-0.337035</td>\n",
       "      <td>0.111732</td>\n",
       "      <td>-0.050883</td>\n",
       "    </tr>\n",
       "    <tr>\n",
       "      <th>power</th>\n",
       "      <td>0.862376</td>\n",
       "      <td>-0.264016</td>\n",
       "      <td>0.044031</td>\n",
       "      <td>-0.337035</td>\n",
       "      <td>1.000000</td>\n",
       "      <td>0.073572</td>\n",
       "      <td>0.213429</td>\n",
       "    </tr>\n",
       "    <tr>\n",
       "      <th>city_code</th>\n",
       "      <td>0.131509</td>\n",
       "      <td>-0.014558</td>\n",
       "      <td>0.176990</td>\n",
       "      <td>0.111732</td>\n",
       "      <td>0.073572</td>\n",
       "      <td>1.000000</td>\n",
       "      <td>-0.004459</td>\n",
       "    </tr>\n",
       "    <tr>\n",
       "      <th>brand_code</th>\n",
       "      <td>0.394474</td>\n",
       "      <td>-0.029519</td>\n",
       "      <td>-0.071885</td>\n",
       "      <td>-0.050883</td>\n",
       "      <td>0.213429</td>\n",
       "      <td>-0.004459</td>\n",
       "      <td>1.000000</td>\n",
       "    </tr>\n",
       "  </tbody>\n",
       "</table>\n",
       "</div>"
      ],
      "text/plain": [
       "               price  kms_driven     owner       age     power  city_code  \\\n",
       "price       1.000000   -0.313955 -0.040164 -0.399133  0.862376   0.131509   \n",
       "kms_driven -0.313955    1.000000 -0.013661  0.484684 -0.264016  -0.014558   \n",
       "owner      -0.040164   -0.013661  1.000000  0.292523  0.044031   0.176990   \n",
       "age        -0.399133    0.484684  0.292523  1.000000 -0.337035   0.111732   \n",
       "power       0.862376   -0.264016  0.044031 -0.337035  1.000000   0.073572   \n",
       "city_code   0.131509   -0.014558  0.176990  0.111732  0.073572   1.000000   \n",
       "brand_code  0.394474   -0.029519 -0.071885 -0.050883  0.213429  -0.004459   \n",
       "\n",
       "            brand_code  \n",
       "price         0.394474  \n",
       "kms_driven   -0.029519  \n",
       "owner        -0.071885  \n",
       "age          -0.050883  \n",
       "power         0.213429  \n",
       "city_code    -0.004459  \n",
       "brand_code    1.000000  "
      ]
     },
     "execution_count": 61,
     "metadata": {},
     "output_type": "execute_result"
    }
   ],
   "source": [
    "#Correlations betn the attributes\n",
    "data.corr()"
   ]
  },
  {
   "cell_type": "code",
   "execution_count": 62,
   "metadata": {},
   "outputs": [
    {
     "data": {
      "image/png": "[encoded data removed]",
      "text/plain": [
       "<Figure size 720x720 with 2 Axes>"
      ]
     },
     "metadata": {},
     "output_type": "display_data"
    }
   ],
   "source": [
    "plt.figure(figsize=(10, 10))\n",
    "correlations = data.corr()\n",
    "sns.heatmap(correlations, cmap=\"coolwarm\", annot=True)\n",
    "plt.show()"
   ]
  },
  {
   "cell_type": "code",
   "execution_count": 63,
   "metadata": {},
   "outputs": [],
   "source": [
    "data.head()\n",
    "# data.owner.value_counts()\n",
    "data.to_csv('main_bike.csv')"
   ]
  },
  {
   "cell_type": "markdown",
   "metadata": {},
   "source": [
    "Splitting Data into Train and Test"
   ]
  },
  {
   "cell_type": "code",
   "execution_count": 64,
   "metadata": {},
   "outputs": [],
   "source": [
    "from sklearn.model_selection import train_test_split\n",
    "from sklearn.ensemble import RandomForestClassifier\n",
    "from sklearn import metrics"
   ]
  },
  {
   "cell_type": "code",
   "execution_count": 65,
   "metadata": {},
   "outputs": [],
   "source": [
    "X,Y=data.drop(['bike_name','price'],axis=1) , data['price']"
   ]
  },
  {
   "cell_type": "code",
   "execution_count": 66,
   "metadata": {},
   "outputs": [],
   "source": [
    "X_train,X_test,Y_train,Y_test = train_test_split(X,Y,test_size=0.2, random_state=2)"
   ]
  },
  {
   "cell_type": "markdown",
   "metadata": {},
   "source": [
    "Model Trainning\n",
    "Random Forest Regressor\n"
   ]
  },
  {
   "cell_type": "code",
   "execution_count": 67,
   "metadata": {},
   "outputs": [],
   "source": [
    "randamForest = RandomForestRegressor()"
   ]
  },
  {
   "cell_type": "code",
   "execution_count": 68,
   "metadata": {},
   "outputs": [
    {
     "data": {
      "text/html": [
       "<style>#sk-container-id-3 {color: black;background-color: white;}#sk-container-id-3 pre{padding: 0;}#sk-container-id-3 div.sk-toggleable {background-color: white;}#sk-container-id-3 label.sk-toggleable__label {cursor: pointer;display: block;width: 100%;margin-bottom: 0;padding: 0.3em;box-sizing: border-box;text-align: center;}#sk-container-id-3 label.sk-toggleable__label-arrow:before {content: \"▸\";float: left;margin-right: 0.25em;color: #696969;}#sk-container-id-3 label.sk-toggleable__label-arrow:hover:before {color: black;}#sk-container-id-3 div.sk-estimator:hover label.sk-toggleable__label-arrow:before {color: black;}#sk-container-id-3 div.sk-toggleable__content {max-height: 0;max-width: 0;overflow: hidden;text-align: left;background-color: #f0f8ff;}#sk-container-id-3 div.sk-toggleable__content pre {margin: 0.2em;color: black;border-radius: 0.25em;background-color: #f0f8ff;}#sk-container-id-3 input.sk-toggleable__control:checked~div.sk-toggleable__content {max-height: 200px;max-width: 100%;overflow: auto;}#sk-container-id-3 input.sk-toggleable__control:checked~label.sk-toggleable__label-arrow:before {content: \"▾\";}#sk-container-id-3 div.sk-estimator input.sk-toggleable__control:checked~label.sk-toggleable__label {background-color: #d4ebff;}#sk-container-id-3 div.sk-label input.sk-toggleable__control:checked~label.sk-toggleable__label {background-color: #d4ebff;}#sk-container-id-3 input.sk-hidden--visually {border: 0;clip: rect(1px 1px 1px 1px);clip: rect(1px, 1px, 1px, 1px);height: 1px;margin: -1px;overflow: hidden;padding: 0;position: absolute;width: 1px;}#sk-container-id-3 div.sk-estimator {font-family: monospace;background-color: #f0f8ff;border: 1px dotted black;border-radius: 0.25em;box-sizing: border-box;margin-bottom: 0.5em;}#sk-container-id-3 div.sk-estimator:hover {background-color: #d4ebff;}#sk-container-id-3 div.sk-parallel-item::after {content: \"\";width: 100%;border-bottom: 1px solid gray;flex-grow: 1;}#sk-container-id-3 div.sk-label:hover label.sk-toggleable__label {background-color: #d4ebff;}#sk-container-id-3 div.sk-serial::before {content: \"\";position: absolute;border-left: 1px solid gray;box-sizing: border-box;top: 0;bottom: 0;left: 50%;z-index: 0;}#sk-container-id-3 div.sk-serial {display: flex;flex-direction: column;align-items: center;background-color: white;padding-right: 0.2em;padding-left: 0.2em;position: relative;}#sk-container-id-3 div.sk-item {position: relative;z-index: 1;}#sk-container-id-3 div.sk-parallel {display: flex;align-items: stretch;justify-content: center;background-color: white;position: relative;}#sk-container-id-3 div.sk-item::before, #sk-container-id-3 div.sk-parallel-item::before {content: \"\";position: absolute;border-left: 1px solid gray;box-sizing: border-box;top: 0;bottom: 0;left: 50%;z-index: -1;}#sk-container-id-3 div.sk-parallel-item {display: flex;flex-direction: column;z-index: 1;position: relative;background-color: white;}#sk-container-id-3 div.sk-parallel-item:first-child::after {align-self: flex-end;width: 50%;}#sk-container-id-3 div.sk-parallel-item:last-child::after {align-self: flex-start;width: 50%;}#sk-container-id-3 div.sk-parallel-item:only-child::after {width: 0;}#sk-container-id-3 div.sk-dashed-wrapped {border: 1px dashed gray;margin: 0 0.4em 0.5em 0.4em;box-sizing: border-box;padding-bottom: 0.4em;background-color: white;}#sk-container-id-3 div.sk-label label {font-family: monospace;font-weight: bold;display: inline-block;line-height: 1.2em;}#sk-container-id-3 div.sk-label-container {text-align: center;}#sk-container-id-3 div.sk-container {/* jupyter's `normalize.less` sets `[hidden] { display: none; }` but bootstrap.min.css set `[hidden] { display: none !important; }` so we also need the `!important` here to be able to override the default hidden behavior on the sphinx rendered scikit-learn.org. See: https://github.com/scikit-learn/scikit-learn/issues/21755 */display: inline-block !important;position: relative;}#sk-container-id-3 div.sk-text-repr-fallback {display: none;}</style><div id=\"sk-container-id-3\" class=\"sk-top-container\"><div class=\"sk-text-repr-fallback\"><pre>RandomForestRegressor()</pre><b>In a Jupyter environment, please rerun this cell to show the HTML representation or trust the notebook. <br />On GitHub, the HTML representation is unable to render, please try loading this page with nbviewer.org.</b></div><div class=\"sk-container\" hidden><div class=\"sk-item\"><div class=\"sk-estimator sk-toggleable\"><input class=\"sk-toggleable__control sk-hidden--visually\" id=\"sk-estimator-id-3\" type=\"checkbox\" checked><label for=\"sk-estimator-id-3\" class=\"sk-toggleable__label sk-toggleable__label-arrow\">RandomForestRegressor</label><div class=\"sk-toggleable__content\"><pre>RandomForestRegressor()</pre></div></div></div></div></div>"
      ],
      "text/plain": [
       "RandomForestRegressor()"
      ]
     },
     "execution_count": 68,
     "metadata": {},
     "output_type": "execute_result"
    }
   ],
   "source": [
    "randamForest.fit(X_train,Y_train)"
   ]
  },
  {
   "cell_type": "code",
   "execution_count": 69,
   "metadata": {},
   "outputs": [],
   "source": [
    "train_pred = randamForest.predict(X_train)\n",
    "test_pred = randamForest.predict(X_test)"
   ]
  },
  {
   "cell_type": "markdown",
   "metadata": {},
   "source": [
    "Model Evaluation"
   ]
  },
  {
   "cell_type": "code",
   "execution_count": 70,
   "metadata": {},
   "outputs": [
    {
     "name": "stdout",
     "output_type": "stream",
     "text": [
      "R Squ Error :  96.59154657403512 %\n"
     ]
    }
   ],
   "source": [
    "# R Squared Error\n",
    "err_score=metrics.r2_score(Y_test,test_pred)\n",
    "print(\"R Squ Error : \",err_score*100,\"%\")"
   ]
  },
  {
   "cell_type": "markdown",
   "metadata": {},
   "source": [
    "Visulize actual price and predicted price"
   ]
  },
  {
   "cell_type": "code",
   "execution_count": 71,
   "metadata": {},
   "outputs": [
    {
     "data": {
      "image/png": "[encoded data removed]",
      "text/plain": [
       "<Figure size 432x288 with 1 Axes>"
      ]
     },
     "metadata": {},
     "output_type": "display_data"
    }
   ],
   "source": [
    "plt.scatter(Y_train,train_pred)\n",
    "plt.xlabel(\"Actual Price\")\n",
    "plt.ylabel(\"Predicted Price\")\n",
    "plt.title(\"Actual price VS Predicted price\")\n",
    "plt.savefig('graph.png')\n",
    "plt.show()"
   ]
  },
  {
   "cell_type": "code",
   "execution_count": 72,
   "metadata": {},
   "outputs": [
    {
     "data": {
      "image/png": "[encoded data removed]",
      "text/plain": [
       "<Figure size 432x288 with 1 Axes>"
      ]
     },
     "metadata": {},
     "output_type": "display_data"
    }
   ],
   "source": [
    "plt.scatter(Y_test,test_pred)\n",
    "plt.xlabel(\"Actual Price\")\n",
    "plt.ylabel(\"Predicted Price\")\n",
    "plt.title(\"Actual price VS Predicted price\")\n",
    "plt.show()"
   ]
  },
  {
   "cell_type": "code",
   "execution_count": 73,
   "metadata": {},
   "outputs": [],
   "source": [
    "import pickle"
   ]
  },
  {
   "cell_type": "code",
   "execution_count": 74,
   "metadata": {},
   "outputs": [],
   "source": [
    "pickle.dump(randamForest,open('RandomForestRegressor.pkl','wb'))"
   ]
  },
  {
   "cell_type": "code",
   "execution_count": 75,
   "metadata": {},
   "outputs": [
    {
     "data": {
      "text/html": [
       "<div>\n",
       "<style scoped>\n",
       "    .dataframe tbody tr th:only-of-type {\n",
       "        vertical-align: middle;\n",
       "    }\n",
       "\n",
       "    .dataframe tbody tr th {\n",
       "        vertical-align: top;\n",
       "    }\n",
       "\n",
       "    .dataframe thead th {\n",
       "        text-align: right;\n",
       "    }\n",
       "</style>\n",
       "<table border=\"1\" class=\"dataframe\">\n",
       "  <thead>\n",
       "    <tr style=\"text-align: right;\">\n",
       "      <th></th>\n",
       "      <th>bike_name</th>\n",
       "      <th>price</th>\n",
       "      <th>kms_driven</th>\n",
       "      <th>owner</th>\n",
       "      <th>age</th>\n",
       "      <th>power</th>\n",
       "      <th>city_code</th>\n",
       "      <th>brand_code</th>\n",
       "    </tr>\n",
       "  </thead>\n",
       "  <tbody>\n",
       "    <tr>\n",
       "      <th>0</th>\n",
       "      <td>TVS Star City</td>\n",
       "      <td>35000</td>\n",
       "      <td>17654</td>\n",
       "      <td>0</td>\n",
       "      <td>3</td>\n",
       "      <td>110</td>\n",
       "      <td>0</td>\n",
       "      <td>0</td>\n",
       "    </tr>\n",
       "    <tr>\n",
       "      <th>1</th>\n",
       "      <td>Royal Enfield Classic</td>\n",
       "      <td>119900</td>\n",
       "      <td>11000</td>\n",
       "      <td>0</td>\n",
       "      <td>4</td>\n",
       "      <td>350</td>\n",
       "      <td>1</td>\n",
       "      <td>1</td>\n",
       "    </tr>\n",
       "    <tr>\n",
       "      <th>2</th>\n",
       "      <td>Triumph Daytona 675R</td>\n",
       "      <td>600000</td>\n",
       "      <td>110</td>\n",
       "      <td>0</td>\n",
       "      <td>8</td>\n",
       "      <td>675</td>\n",
       "      <td>1</td>\n",
       "      <td>2</td>\n",
       "    </tr>\n",
       "    <tr>\n",
       "      <th>3</th>\n",
       "      <td>TVS Apache RTR</td>\n",
       "      <td>65000</td>\n",
       "      <td>16329</td>\n",
       "      <td>0</td>\n",
       "      <td>4</td>\n",
       "      <td>180</td>\n",
       "      <td>2</td>\n",
       "      <td>0</td>\n",
       "    </tr>\n",
       "    <tr>\n",
       "      <th>4</th>\n",
       "      <td>Yamaha FZ S</td>\n",
       "      <td>80000</td>\n",
       "      <td>10000</td>\n",
       "      <td>0</td>\n",
       "      <td>3</td>\n",
       "      <td>150</td>\n",
       "      <td>2</td>\n",
       "      <td>3</td>\n",
       "    </tr>\n",
       "  </tbody>\n",
       "</table>\n",
       "</div>"
      ],
      "text/plain": [
       "               bike_name   price  kms_driven  owner  age  power  city_code  \\\n",
       "0          TVS Star City   35000       17654      0    3    110          0   \n",
       "1  Royal Enfield Classic  119900       11000      0    4    350          1   \n",
       "2   Triumph Daytona 675R  600000         110      0    8    675          1   \n",
       "3         TVS Apache RTR   65000       16329      0    4    180          2   \n",
       "4            Yamaha FZ S   80000       10000      0    3    150          2   \n",
       "\n",
       "   brand_code  \n",
       "0           0  \n",
       "1           1  \n",
       "2           2  \n",
       "3           0  \n",
       "4           3  "
      ]
     },
     "execution_count": 75,
     "metadata": {},
     "output_type": "execute_result"
    }
   ],
   "source": [
    "data.head()"
   ]
  },
  {
   "cell_type": "code",
   "execution_count": 76,
   "metadata": {},
   "outputs": [
    {
     "data": {
      "text/plain": [
       "array([116941.5])"
      ]
     },
     "execution_count": 76,
     "metadata": {},
     "output_type": "execute_result"
    }
   ],
   "source": [
    "randamForest.predict(pd.DataFrame([[11000.0\t,0\t,4.0\t,350.0,\t1\t,1]],columns=['kms_driven','owner','age','power','city_code','brand_code']))"
   ]
  },
  {
   "cell_type": "code",
   "execution_count": 77,
   "metadata": {},
   "outputs": [
    {
     "data": {
      "text/plain": [
       "array([84770.])"
      ]
     },
     "execution_count": 77,
     "metadata": {},
     "output_type": "execute_result"
    }
   ],
   "source": [
    "randamForest.predict(pd.DataFrame([[10000.0,\t0,\t3,\t150.0,\t2,\t3]],columns=['kms_driven','owner','age','power','city_code','brand_code']))"
   ]
  },
  {
   "cell_type": "code",
   "execution_count": 78,
   "metadata": {},
   "outputs": [
    {
     "data": {
      "text/plain": [
       "array([ 110,  350,  675,  180,  150,  160,  100,  500,  250,  200,  125,\n",
       "        302,  220,  390,  600,  900,  650,  223,  410,  135, 1100,  765,\n",
       "        300, 1299,  750,  400, 1300,  821, 1198,  883,  959,  295,  320,\n",
       "        310,  899, 1800,  535, 1130, 1000, 1200, 1050,  800, 1262, 1700,\n",
       "        175,  865,  797,  796,  149,  850, 1090,  502,  107], dtype=int64)"
      ]
     },
     "execution_count": 78,
     "metadata": {},
     "output_type": "execute_result"
    }
   ],
   "source": [
    "data.power.unique()"
   ]
  },
  {
   "cell_type": "code",
   "execution_count": null,
   "metadata": {},
   "outputs": [],
   "source": []
  }
 ],
 "metadata": {
  "kernelspec": {
   "display_name": "Python 3.10.5 64-bit",
   "language": "python",
   "name": "python3"
  },
  "language_info": {
   "codemirror_mode": {
    "name": "ipython",
    "version": 3
   },
   "file_extension": ".py",
   "mimetype": "text/x-python",
   "name": "python",
   "nbconvert_exporter": "python",
   "pygments_lexer": "ipython3",
   "version": "3.10.5"
  },
  "vscode": {
   "interpreter": {
    "hash": "76d7c06053c3456e5600312cec90888656fc0ed30c03d8425b9dac6e4fc8e014"
   }
  }
 },
 "nbformat": 4,
 "nbformat_minor": 4
}
